{
 "cells": [
  {
   "cell_type": "markdown",
   "metadata": {},
   "source": [
    "# Tutorial 01: Hello, World!\n",
    "\n",
    "**Description:** In this tutorial, we explore the fundamentals of computational imaging using Blender. The goal is to build a synthetic image pipeline that mimics the components of a physical imaging system. We focus on three core elements: the camera, the lights, and the scene itself. By the end, you will have a deeper understanding of how to control these elements programmatically to simulate a simple imaging setup.\n",
    "\n",
    "**Requirement(s):** blender_notebook numpy matplotlib\n",
    "\n",
    "**Author:** Matthew O'Toole\n",
    "\n",
    "---"
   ]
  },
  {
   "cell_type": "markdown",
   "metadata": {},
   "source": [
    "#### Part 0: Creating the Blender kernel\n",
    "\n",
    "Before getting into the actual content of this notebook, our first step is to wrap Blender into a Jupyter notebook kernel.\n",
    "\n",
    "If you have not installed Blender already, head on over to the Blender website (https://www.blender.org/), download the latest version, and install the application.  Blender embeds its own Python interpreter, which we will use to wrap Blender as a Jupyter notebook kernel.\n",
    "\n",
    "Open a terminal and navigate to the directory containing the Python executable.  For example, on a macOS for *Blender 4.5*, this is done as follows:\n",
    ">cd /Applications/Blender.app/Contents/Resources/4.5/python/bin\n",
    "\n",
    "Next, we will use pip to install or upgrade the Python packages listed above and required by this notebook.  For *Blender 4.5*, this is done using the following\n",
    "notebook, this includes the following:\n",
    ">./python3.11 -m pip install --upgrade blender_notebook numpy matplotlib\n",
    "\n",
    "(You may need to adjust this line to reflect the version of Python provided by Blender.) Finally, to create the actual kernel, we use the following line:\n",
    ">./blender_notebook install --blender-exec='/Applications/Blender.app/Contents/MacOS/Blender'\n",
    "\n",
    "And that's it!  When using Jupyter notebook (e.g., via Visual Studio Code), a 'blender' kernel should now be available, which launches an instance of Blender and allows it to be controlled programmatically."
   ]
  },
  {
   "cell_type": "markdown",
   "metadata": {},
   "source": [
    "#### Part 1: Initialize the scene\n",
    "\n",
    "Before defining the camera, lights, or scene objects, it’s good practice to clear the Blender scene. This ensures that your setup is reproducible and free of unintended leftover objects from previous sessions.  We will also import the relevant Python modules used by this notebook."
   ]
  },
  {
   "cell_type": "code",
   "execution_count": null,
   "metadata": {},
   "outputs": [
    {
     "name": "stdout",
     "output_type": "stream",
     "text": [
      "register_class(...):\n",
      "Info: Registering key-config preferences class: 'Prefs', bl_idname 'Blender' has been registered before, unregistering previous\n"
     ]
    }
   ],
   "source": [
    "import bpy\n",
    "import numpy as np\n",
    "import matplotlib.pyplot as plt\n",
    "\n",
    "# Clear scene\n",
    "if __name__ == '__main__':\n",
    "    bpy.ops.wm.read_factory_settings(use_empty=True)"
   ]
  },
  {
   "cell_type": "markdown",
   "metadata": {},
   "source": [
    "#### Part 2: Defining the camera\n",
    "\n",
    "The camera is the gateway between the virtual world and the image we render. In computational imaging, we often need precise control over the camera's parameters, including focal length, sensor size, and aperture (to name a few).  Here, we create a simple perspective camera."
   ]
  },
  {
   "cell_type": "code",
   "execution_count": 2,
   "metadata": {},
   "outputs": [],
   "source": [
    "# Create camera\n",
    "def define_camera():\n",
    "    bpy.ops.object.camera_add(rotation=(np.pi/2, 0, 0))\n",
    "    cam = bpy.context.active_object\n",
    "    bpy.context.scene.camera = cam"
   ]
  },
  {
   "cell_type": "markdown",
   "metadata": {},
   "source": [
    "#### Part 3: Defining the lights\n",
    "\n",
    "Lighting plays a critical role in how a scene is perceived. Computational imaging often requires carefully controlled illumination to simulate specific lighting conditions or extract scene properties.  Here, we add the humble point light source, colocated with the position of the camera, to provide a source of illumination."
   ]
  },
  {
   "cell_type": "code",
   "execution_count": 3,
   "metadata": {},
   "outputs": [],
   "source": [
    "# Add light source\n",
    "def define_light():\n",
    "    bpy.ops.object.light_add(type='POINT')\n",
    "    light = bpy.context.active_object\n",
    "    light.data.energy = 1e4"
   ]
  },
  {
   "cell_type": "markdown",
   "metadata": {},
   "source": [
    "#### Part 4: Defining the scene\n",
    "\n",
    "The scene includes the geometry, materials, and background environment. In the following tutorials, scenes often consist of a single object, used to emphasize certain aspects like shape and reflectance (e.g., a Lambertian sphere). For now, we add a simple object to the scene."
   ]
  },
  {
   "cell_type": "code",
   "execution_count": 4,
   "metadata": {},
   "outputs": [],
   "source": [
    "# Add text to scene\n",
    "def define_scene():\n",
    "    bpy.ops.object.text_add(location=(0, 10, 0), rotation=(np.pi/2, 0, 0))\n",
    "    text = bpy.context.active_object\n",
    "    text.data.body = \"Hello, World!\"\n",
    "    text.data.size = 1\n",
    "    text.data.align_x = 'CENTER'\n",
    "    text.data.align_y = 'CENTER'"
   ]
  },
  {
   "cell_type": "markdown",
   "metadata": {},
   "source": [
    "#### Part 5: Render an image\n",
    "\n",
    "With the camera, lights, and scene defined, the final step in the imaging pipeline is to render the image. Rendering simulates how light interacts with the scene from the camera's perspective and generates a 2D image that can be saved and analyzed."
   ]
  },
  {
   "cell_type": "code",
   "execution_count": 5,
   "metadata": {},
   "outputs": [
    {
     "name": "stdout",
     "output_type": "stream",
     "text": [
      "Saved: 'tmp/output.PNG'\n",
      "Time: 00:00.97 (Saving: 00:00.14)\n",
      "\n"
     ]
    },
    {
     "data": {
      "image/png": "[encoded data removed]",
      "text/plain": [
       "<Figure size 640x480 with 1 Axes>"
      ]
     },
     "metadata": {},
     "output_type": "display_data"
    }
   ],
   "source": [
    "def get_render():\n",
    "    # Set render path with the appropriate extension\n",
    "    path = './tmp/output.' + bpy.context.scene.render.image_settings.file_format\n",
    "    bpy.context.scene.render.filepath = path\n",
    "\n",
    "    # Render the scene\n",
    "    bpy.ops.render.render(write_still=True)\n",
    "\n",
    "    # Read in the image\n",
    "    image = bpy.data.images.load(path)\n",
    "    image.colorspace_settings.name = 'Non-Color'\n",
    "    width, height = image.size\n",
    "    pixels = np.array(image.pixels)\n",
    "    pixels = pixels.reshape((height, width, 4))\n",
    "    pixels = pixels[:,:,0:3]\n",
    "\n",
    "    return pixels\n",
    "\n",
    "if __name__ == '__main__':\n",
    "    define_camera()\n",
    "    define_light()\n",
    "    define_scene()\n",
    "\n",
    "    bpy.context.scene.render.image_settings.file_format = 'PNG'\n",
    "    plt.imshow(get_render(), origin='lower')"
   ]
  },
  {
   "cell_type": "markdown",
   "metadata": {},
   "source": [
    "#### Exercise 1: Experiment with cameras, lights, and objects\n",
    "\n",
    "To help understand Blender's Python API, check out the following resources:\n",
    "\n",
    "* **Blender Python API Dcoumentation (https://docs.blender.org/api/current/index.html):** Perhaps the first resource is the official Blender documentation , which includes (i) a quickstart guide to familiarize yourself with the Blender Python API, (ii) best practices for Blender python development and (iii) a description of all Blender Python modules.\n",
    "\n",
    "* **Blender's Info Editor (https://docs.blender.org/manual/en/latest/editors/info_editor.html):** Already familiar with how to use Blender?  Most operations performed within Blender appears as a Python function call in the *Info Editor*.  After performing an operation manually (e.g., adding a cube to the scene), the code to replicate this action appears within the editor; simply copy and paste the line to perform this action programmatically.\n",
    "\n",
    "* **CGPython (https://github.com/CGArtPython/, https://www.youtube.com/@CGPython):** There are many Blender tutorials available online and CGPython is among the best (in my opinion) in terms of learning to use Python for Blender.\n",
    "\n",
    "* **The magic of LLMs:** Existing LLMs (e.g., ChatGPT) are already proficient at generating Blender Python code.  Give it a try!\n",
    "\n",
    "Try modifying this notebook to (i) reposition the camera, (ii) adjust the color of the light source, or (iii) add a new object to the scene."
   ]
  }
 ],
 "metadata": {
  "kernelspec": {
   "display_name": "Python 3",
   "language": "python",
   "name": "python3"
  },
  "language_info": {
   "codemirror_mode": {
    "name": "ipython",
    "version": 3
   },
   "file_extension": ".py",
   "mimetype": "text/x-python",
   "name": "python",
   "nbconvert_exporter": "python",
   "pygments_lexer": "ipython3",
   "version": "3.11.11"
  }
 },
 "nbformat": 4,
 "nbformat_minor": 2
}
